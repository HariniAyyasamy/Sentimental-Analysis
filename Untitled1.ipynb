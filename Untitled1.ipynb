{
 "cells": [
  {
   "cell_type": "code",
   "execution_count": 185,
   "id": "8b08abf2",
   "metadata": {},
   "outputs": [],
   "source": [
    "import requests\n",
    "import pandas as pd \n",
    "from bs4 import BeautifulSoup\n",
    "import string\n",
    "import spacy\n",
    "import re"
   ]
  },
  {
   "cell_type": "code",
   "execution_count": 937,
   "id": "6ad9d6ab",
   "metadata": {},
   "outputs": [],
   "source": [
    "url=\"\"\"https://insights.blackcoffer.com/rise-of-telemedicine-and-its-impact-on-livelihood-by-2040-2/\n",
    "\"\"\""
   ]
  },
  {
   "cell_type": "code",
   "execution_count": 938,
   "id": "14d79aa3",
   "metadata": {},
   "outputs": [],
   "source": [
    "headers = {\"User-Agent\": \"Mozilla/5.0 (X11; Linux x86_64; rv:60.0) Gecko/20100101 Firefox/60.0\"}\n",
    "page = requests.get(url, headers=headers)\n",
    "soup = BeautifulSoup(page.content, 'html.parser')"
   ]
  },
  {
   "cell_type": "code",
   "execution_count": 939,
   "id": "b2586ded",
   "metadata": {},
   "outputs": [],
   "source": [
    "soup=BeautifulSoup(page.content, 'html.parser')"
   ]
  },
  {
   "cell_type": "code",
   "execution_count": 940,
   "id": "0192f250",
   "metadata": {},
   "outputs": [
    {
     "name": "stdout",
     "output_type": "stream",
     "text": [
      "Rise of telemedicine and its Impact on Livelihood by 2040\n"
     ]
    }
   ],
   "source": [
    "title = soup.find('h1', class_='entry-title')\n",
    "if title:\n",
    "    title = title.text.replace('\\n', ' ')\n",
    "    print(title)\n",
    "else:\n",
    "    print(\"No title found.\")\n",
    "\n",
    "\n",
    "\n",
    "\n"
   ]
  },
  {
   "cell_type": "code",
   "execution_count": 941,
   "id": "13c8a94e",
   "metadata": {},
   "outputs": [
    {
     "name": "stdout",
     "output_type": "stream",
     "text": [
      " “More gains on quality, affordability and accessibility are on the way” What do tele-med means? As the world evolves and advances, so does technology which in turn impacts our daily lives. One of that advancement is Telemedicine. It’s not an overnight change, but more like how summer turns into fall – gradual yet very perceptible. We are now able to access healthcare remotely and this has huge implications for the way we access healthcare. How will people be accessing healthcare services in 2040? I believe that telehealth services will become an essential part of our everyday lives and will be easily accessible from the comfort of our own homes. But first of all, what is telemedicine? It is the use of telecommunications technology to transmit medical information between healthcare professionals and patients via mobile devices or computer tablets. Healthcare providers can use these devices to connect remotely with their patients to monitor their health remotely or to even treat them during emergencies without having to travel from one location to another. Role of tele-med during a pandemic Telemedicine’s ability to address inequities in access has been demonstrated during the pandemic. The ubiquitous smartphone, capable of video interactions, can be a lifeline for underserved populations. In rural areas with few mental health professionals, for example, Intermountain’s’s ability to offer virtual visits gives patients prompt access to both emergency and routine care. Early in the COVID-19 pandemic, telehealth usage surged as consumers and providers sought ways to safely access and deliver healthcare. When the pandemic forced the closure of in-person clinics and offices, psychologists and psychiatrists across the world quickly instituted virtual visits. Telemedicine visits remained popular even after restrictions eased. Intermountain patients receiving their care virtually reported high satisfaction and were less likely to cancel appointments than patients who had scheduled in-person visits. Advantages of Telemed in today’s era Patients with obscure or complex medical problems often find themselves living a two-pronged nightmare. There’s the pain and fear of having a rare disease and the frustration of trying to find the right specialist. Patients may bounce from one local physician to the next, wasting weeks or months sitting through useless appointments and enduring sleepless nights. Telemedicine offers a far better solution. Virtual technology can connect patients with the most experienced and knowledgeable doctors regardless of where they practice. By eliminating the barriers of time and distance, telemedicine can help address two serious problems for patients with difficult diagnoses and rare diseases. The first is misdiagnosis. The second is long waits for a proper diagnosis and effective treatment plan. Rise of the telemedicine industry post-pandemic Source: The Indian Express This step-change, borne out of necessity, was enabled by these factors: 1) increased consumer willingness to use telehealth, 2) increased provider willingness to use telehealth, and 3) regulatory changes enabling greater access and reimbursement. During the tragedy of the pandemic, telehealth offered a bridge to care, and now offers a chance to reinvent virtual and hybrid virtual/in-person care models, with a goal of improved healthcare access, outcomes, and affordability. Our consumer research5 shows that consumers continue to view telehealth as an important modality for their future care needs, but—as expected—this view varies widely depending on the type of care. Overall, consumer perception tracks closely to what we believe is possible telehealth uptake by various specialties (Exhibit 2). Around 40 percent of surveyed consumers stated that they believe they will continue to use telehealth going forward—up from 11 percent of consumers using telehealth before COVID-19. Its impact on human beings over the years Moreover, our research shows between 40 and 60 percent of consumers express interest in a set of broader virtual health solutions, such as a “digital front door” or lower-cost virtual-first health plan.6 However, a gap has historically existed between consumers’ expressed interest in digital health solutions and actual usage. Continuing to focus on creating a seamless consumer interface, breaking down silos in care provision (across virtual and in-person) with improved data integration and insights, and proactive consumer engagement will all be important to sustaining and growing consumer use of virtual health as the pandemic wanes. Increasing both the frequency and the scope of virtual care nationwide would transform Indian health, improving the lives of patients who get sick during nights and weekends, those with chronic and mental health issues, and anyone who could benefit from virtual specialty care. It could save tens of thousands of lives and hundreds of billions of dollars each year. As of July 2021, we step back to review the progress of telehealth since the initial COVID-19 spike and to assess implications for telehealth and virtual health more broadly going forward. The findings include the following insights: “ Telehealth utilization has stabilized at levels 38X higher than before the pandemic. Similarly, consumer and provider attitudes toward telehealth have improved since the pre-COVID-19 era. Investment in virtual care and digital health more broadly has skyrocketed, fuelling further innovation. Virtual healthcare models and business models are evolving and proliferating.” Access to online primary care is growing rapidly but remains concentrated among younger patients and minorities. Despite the challenges ahead, substantial opportunities lie ahead as we recover from the pandemic. Is the rise in tele-med industry temporary or will keep growing? The trend toward more virtual health care will continue as consumers become more comfortable with telehealth and demand more convenient ways to access care. In some areas, such as urgent care and specialty care, patients are starting to shift their preferences toward online solutions. Moving forward, there are several important challenges and opportunities to consider to ensure that the benefits of telehealth are widely accessible to patients and providers alike. Role of business leaders in achieving new model When creating a new model of health care, the hard work is in the details, and because a tele-driven system will affect every aspect of care delivery, developing one entails thousands of decisions. Medical and financial leaders will need to design, shape, and implement the processes by which care will be delivered and paid for. The specifics of how best to do this are beyond the scope of this article, but here are two major considerations: reimbursement and care delivery requisites. Businesses will need to band together to achieve economies of scale and identify the right leadership in the surrounding medical community. Businesses might wonder whether creating a new health system merits the time and energy that would be required. They should consider that rapidly rising medical costs will significantly affect their bottom lines. Even before Covid-19 struck, sparking supply chain challenges and exacerbating the shortage of healthcare professionals, experts predicted that healthcare spending would increase by 5.5% annually. Businesses can expect extremely high medical-cost inflation if nothing is done. The time to act is now. Summing it up Lowering medical costs while maximizing the health of employees is the best way for businesses to stay profitable and maintain a loyal workforce. The pandemic has highlighted the opportunities that exist and the problems that will worsen if nothing changes. Done well, the transition to a tele-driven health system could be accomplished in a few years. If left to chance, it could take decades—if it happens at all. The current crisis offers a unique opportunity to build a better future for our healthcare system. But we must act quickly. Blackcoffer Insights 46: Mayank Garg From Rukmini Devi Institute of Advanced Studies,GGSIPU, Rohini ( Delhi) \n"
     ]
    }
   ],
   "source": [
    "content = soup.findAll(attrs={'class': 'td-post-content'})\n",
    "\n",
    "if content:\n",
    "    content = content[0].text.replace('\\n', ' ')\n",
    "    print(content)\n",
    "else:\n",
    "    print(\"No content found.\")\n"
   ]
  },
  {
   "cell_type": "code",
   "execution_count": 942,
   "id": "b5a32c9e",
   "metadata": {},
   "outputs": [
    {
     "name": "stdout",
     "output_type": "stream",
     "text": [
      " “More gains on quality affordability and accessibility are on the way” What do telemed means As the world evolves and advances so does technology which in turn impacts our daily lives One of that advancement is Telemedicine It’s not an overnight change but more like how summer turns into fall – gradual yet very perceptible We are now able to access healthcare remotely and this has huge implications for the way we access healthcare How will people be accessing healthcare services in 2040 I believe that telehealth services will become an essential part of our everyday lives and will be easily accessible from the comfort of our own homes But first of all what is telemedicine It is the use of telecommunications technology to transmit medical information between healthcare professionals and patients via mobile devices or computer tablets Healthcare providers can use these devices to connect remotely with their patients to monitor their health remotely or to even treat them during emergencies without having to travel from one location to another Role of telemed during a pandemic Telemedicine’s ability to address inequities in access has been demonstrated during the pandemic The ubiquitous smartphone capable of video interactions can be a lifeline for underserved populations In rural areas with few mental health professionals for example Intermountain’s’s ability to offer virtual visits gives patients prompt access to both emergency and routine care Early in the COVID19 pandemic telehealth usage surged as consumers and providers sought ways to safely access and deliver healthcare When the pandemic forced the closure of inperson clinics and offices psychologists and psychiatrists across the world quickly instituted virtual visits Telemedicine visits remained popular even after restrictions eased Intermountain patients receiving their care virtually reported high satisfaction and were less likely to cancel appointments than patients who had scheduled inperson visits Advantages of Telemed in today’s era Patients with obscure or complex medical problems often find themselves living a twopronged nightmare There’s the pain and fear of having a rare disease and the frustration of trying to find the right specialist Patients may bounce from one local physician to the next wasting weeks or months sitting through useless appointments and enduring sleepless nights Telemedicine offers a far better solution Virtual technology can connect patients with the most experienced and knowledgeable doctors regardless of where they practice By eliminating the barriers of time and distance telemedicine can help address two serious problems for patients with difficult diagnoses and rare diseases The first is misdiagnosis The second is long waits for a proper diagnosis and effective treatment plan Rise of the telemedicine industry postpandemic Source The Indian Express This stepchange borne out of necessity was enabled by these factors 1 increased consumer willingness to use telehealth 2 increased provider willingness to use telehealth and 3 regulatory changes enabling greater access and reimbursement During the tragedy of the pandemic telehealth offered a bridge to care and now offers a chance to reinvent virtual and hybrid virtualinperson care models with a goal of improved healthcare access outcomes and affordability Our consumer research5 shows that consumers continue to view telehealth as an important modality for their future care needs but—as expected—this view varies widely depending on the type of care Overall consumer perception tracks closely to what we believe is possible telehealth uptake by various specialties Exhibit 2 Around 40 percent of surveyed consumers stated that they believe they will continue to use telehealth going forward—up from 11 percent of consumers using telehealth before COVID19 Its impact on human beings over the years Moreover our research shows between 40 and 60 percent of consumers express interest in a set of broader virtual health solutions such as a “digital front door” or lowercost virtualfirst health plan6 However a gap has historically existed between consumers’ expressed interest in digital health solutions and actual usage Continuing to focus on creating a seamless consumer interface breaking down silos in care provision across virtual and inperson with improved data integration and insights and proactive consumer engagement will all be important to sustaining and growing consumer use of virtual health as the pandemic wanes Increasing both the frequency and the scope of virtual care nationwide would transform Indian health improving the lives of patients who get sick during nights and weekends those with chronic and mental health issues and anyone who could benefit from virtual specialty care It could save tens of thousands of lives and hundreds of billions of dollars each year As of July 2021 we step back to review the progress of telehealth since the initial COVID19 spike and to assess implications for telehealth and virtual health more broadly going forward The findings include the following insights “ Telehealth utilization has stabilized at levels 38X higher than before the pandemic Similarly consumer and provider attitudes toward telehealth have improved since the preCOVID19 era Investment in virtual care and digital health more broadly has skyrocketed fuelling further innovation Virtual healthcare models and business models are evolving and proliferating” Access to online primary care is growing rapidly but remains concentrated among younger patients and minorities Despite the challenges ahead substantial opportunities lie ahead as we recover from the pandemic Is the rise in telemed industry temporary or will keep growing The trend toward more virtual health care will continue as consumers become more comfortable with telehealth and demand more convenient ways to access care In some areas such as urgent care and specialty care patients are starting to shift their preferences toward online solutions Moving forward there are several important challenges and opportunities to consider to ensure that the benefits of telehealth are widely accessible to patients and providers alike Role of business leaders in achieving new model When creating a new model of health care the hard work is in the details and because a teledriven system will affect every aspect of care delivery developing one entails thousands of decisions Medical and financial leaders will need to design shape and implement the processes by which care will be delivered and paid for The specifics of how best to do this are beyond the scope of this article but here are two major considerations reimbursement and care delivery requisites Businesses will need to band together to achieve economies of scale and identify the right leadership in the surrounding medical community Businesses might wonder whether creating a new health system merits the time and energy that would be required They should consider that rapidly rising medical costs will significantly affect their bottom lines Even before Covid19 struck sparking supply chain challenges and exacerbating the shortage of healthcare professionals experts predicted that healthcare spending would increase by 55 annually Businesses can expect extremely high medicalcost inflation if nothing is done The time to act is now Summing it up Lowering medical costs while maximizing the health of employees is the best way for businesses to stay profitable and maintain a loyal workforce The pandemic has highlighted the opportunities that exist and the problems that will worsen if nothing changes Done well the transition to a teledriven health system could be accomplished in a few years If left to chance it could take decades—if it happens at all The current crisis offers a unique opportunity to build a better future for our healthcare system But we must act quickly Blackcoffer Insights 46 Mayank Garg From Rukmini Devi Institute of Advanced StudiesGGSIPU Rohini  Delhi \n"
     ]
    }
   ],
   "source": [
    "content = content.translate(str.maketrans('', '', string.punctuation))\n",
    "print(content)\n"
   ]
  },
  {
   "cell_type": "code",
   "execution_count": 943,
   "id": "9d4ae85c",
   "metadata": {
    "scrolled": false
   },
   "outputs": [
    {
     "name": "stdout",
     "output_type": "stream",
     "text": [
      "Requirement already satisfied: nltk in c:\\users\\user\\anaconda3\\lib\\site-packages (3.7)\n",
      "Requirement already satisfied: click in c:\\users\\user\\anaconda3\\lib\\site-packages (from nltk) (8.0.4)\n",
      "Requirement already satisfied: joblib in c:\\users\\user\\anaconda3\\lib\\site-packages (from nltk) (1.1.1)\n",
      "Requirement already satisfied: regex>=2021.8.3 in c:\\users\\user\\anaconda3\\lib\\site-packages (from nltk) (2022.7.9)\n",
      "Requirement already satisfied: tqdm in c:\\users\\user\\anaconda3\\lib\\site-packages (from nltk) (4.64.1)\n",
      "Requirement already satisfied: colorama in c:\\users\\user\\anaconda3\\lib\\site-packages (from click->nltk) (0.4.6)\n"
     ]
    }
   ],
   "source": [
    "!pip install nltk"
   ]
  },
  {
   "cell_type": "code",
   "execution_count": 944,
   "id": "fa40bcc9",
   "metadata": {},
   "outputs": [
    {
     "name": "stdout",
     "output_type": "stream",
     "text": [
      "['“', 'More', 'gains', 'on', 'quality', ',', 'affordability', 'and', 'accessibility', 'are', 'on', 'the', 'way', '”', 'What', 'do', 'tele-med', 'means', '?', 'As', 'the', 'world', 'evolves', 'and', 'advances', ',', 'so', 'does', 'technology', 'which', 'in', 'turn', 'impacts', 'our', 'daily', 'lives', '.', 'One', 'of', 'that', 'advancement', 'is', 'Telemedicine', '.', 'It', '’', 's', 'not', 'an', 'overnight']\n"
     ]
    }
   ],
   "source": [
    "from nltk.tokenize import word_tokenize\n",
    "\n",
    "# Assuming you have already extracted the content elements\n",
    "content = soup.findAll(attrs={'class': 'td-post-content'})\n",
    "\n",
    "if content:\n",
    "    content = content[0].text  # Extract text content from the element\n",
    "    text_tokens = word_tokenize(content)\n",
    "    print(text_tokens[0:50])\n",
    "else:\n",
    "    print(\"No content found.\")\n"
   ]
  },
  {
   "cell_type": "code",
   "execution_count": 945,
   "id": "173b07a1",
   "metadata": {
    "scrolled": true
   },
   "outputs": [
    {
     "data": {
      "text/plain": [
       "1374"
      ]
     },
     "execution_count": 945,
     "metadata": {},
     "output_type": "execute_result"
    }
   ],
   "source": [
    "len(text_tokens)"
   ]
  },
  {
   "cell_type": "code",
   "execution_count": 946,
   "id": "23109907",
   "metadata": {},
   "outputs": [
    {
     "name": "stdout",
     "output_type": "stream",
     "text": [
      "['“', 'More', 'gains', 'quality', ',', 'affordability', 'accessibility', 'way', '”', 'What', 'tele-med', 'means', '?', 'As', 'world', 'evolves', 'advances', ',', 'technology', 'turn', 'impacts', 'daily', 'lives', '.', 'One', 'advancement', 'Telemedicine', '.', 'It', '’', 'overnight', 'change', ',', 'like', 'summer', 'turns', 'fall', '–', 'gradual', 'yet']\n"
     ]
    },
    {
     "name": "stderr",
     "output_type": "stream",
     "text": [
      "[nltk_data] Downloading package punkt to\n",
      "[nltk_data]     C:\\Users\\User\\AppData\\Roaming\\nltk_data...\n",
      "[nltk_data]   Package punkt is already up-to-date!\n",
      "[nltk_data] Downloading package stopwords to\n",
      "[nltk_data]     C:\\Users\\User\\AppData\\Roaming\\nltk_data...\n",
      "[nltk_data]   Package stopwords is already up-to-date!\n"
     ]
    }
   ],
   "source": [
    "import nltk\n",
    "from nltk.corpus import stopwords\n",
    "nltk.download('punkt')\n",
    "nltk.download('stopwords')\n",
    "\n",
    "my_stop_words = stopwords.words('english')\n",
    "my_stop_words.append('the')\n",
    "no_stop_tokens = [word for word in text_tokens if not word in my_stop_words]\n",
    "print(no_stop_tokens[0:40])"
   ]
  },
  {
   "cell_type": "code",
   "execution_count": 947,
   "id": "d60f6a1e",
   "metadata": {},
   "outputs": [
    {
     "data": {
      "text/plain": [
       "932"
      ]
     },
     "execution_count": 947,
     "metadata": {},
     "output_type": "execute_result"
    }
   ],
   "source": [
    "len(no_stop_tokens)"
   ]
  },
  {
   "cell_type": "code",
   "execution_count": 948,
   "id": "1e9edab1",
   "metadata": {},
   "outputs": [],
   "source": [
    "with open(\"E:\\positive-words.txt\",\"r\") as pos:\n",
    "    poswords = pos.read().split(\"\\n\")  \n",
    "    poswords = poswords[5:]"
   ]
  },
  {
   "cell_type": "code",
   "execution_count": 949,
   "id": "c425266a",
   "metadata": {},
   "outputs": [],
   "source": [
    "pos_count = \" \".join ([w for w in no_stop_tokens if w in poswords])\n",
    "pos_count=pos_count.split(\" \")"
   ]
  },
  {
   "cell_type": "code",
   "execution_count": 950,
   "id": "ef766ec5",
   "metadata": {},
   "outputs": [
    {
     "name": "stdout",
     "output_type": "stream",
     "text": [
      "42\n"
     ]
    }
   ],
   "source": [
    "Positive_score=len(pos_count)\n",
    "print(Positive_score)"
   ]
  },
  {
   "cell_type": "code",
   "execution_count": 951,
   "id": "cc7fb6f3",
   "metadata": {
    "scrolled": true
   },
   "outputs": [],
   "source": [
    "with open(\"E:\\\\negative-words.txt\",\"r\",encoding = \"ISO-8859-1\") as neg:\n",
    "    negwords = neg.read().split(\"\\n\")\n",
    "    \n",
    "negwords = negwords[36:]"
   ]
  },
  {
   "cell_type": "code",
   "execution_count": 952,
   "id": "fff64834",
   "metadata": {},
   "outputs": [],
   "source": [
    "neg_count = \" \".join ([w for w in no_stop_tokens if w in negwords])\n",
    "neg_count=neg_count.split(\" \")"
   ]
  },
  {
   "cell_type": "code",
   "execution_count": 953,
   "id": "05960001",
   "metadata": {},
   "outputs": [
    {
     "name": "stdout",
     "output_type": "stream",
     "text": [
      "27\n"
     ]
    }
   ],
   "source": [
    "Negative_score=len(neg_count)\n",
    "print(Negative_score)"
   ]
  },
  {
   "cell_type": "code",
   "execution_count": 954,
   "id": "a6cb9ef8",
   "metadata": {},
   "outputs": [],
   "source": [
    "filter_content = ' '.join(no_stop_tokens)"
   ]
  },
  {
   "cell_type": "code",
   "execution_count": 955,
   "id": "10c07f22",
   "metadata": {},
   "outputs": [],
   "source": [
    "data=[[url,title,content,filter_content,Positive_score,Negative_score]]"
   ]
  },
  {
   "cell_type": "code",
   "execution_count": 956,
   "id": "2faf2194",
   "metadata": {},
   "outputs": [],
   "source": [
    "data=pd.DataFrame(data,columns=[\"url\",\"title\",\"content\",\"filter_content\",\"Positive_Score\",\"Negative_Score\"])"
   ]
  },
  {
   "cell_type": "code",
   "execution_count": 957,
   "id": "780562e8",
   "metadata": {},
   "outputs": [
    {
     "data": {
      "text/html": [
       "<div>\n",
       "<style scoped>\n",
       "    .dataframe tbody tr th:only-of-type {\n",
       "        vertical-align: middle;\n",
       "    }\n",
       "\n",
       "    .dataframe tbody tr th {\n",
       "        vertical-align: top;\n",
       "    }\n",
       "\n",
       "    .dataframe thead th {\n",
       "        text-align: right;\n",
       "    }\n",
       "</style>\n",
       "<table border=\"1\" class=\"dataframe\">\n",
       "  <thead>\n",
       "    <tr style=\"text-align: right;\">\n",
       "      <th></th>\n",
       "      <th>url</th>\n",
       "      <th>title</th>\n",
       "      <th>content</th>\n",
       "      <th>filter_content</th>\n",
       "      <th>Positive_Score</th>\n",
       "      <th>Negative_Score</th>\n",
       "      <th>polarity</th>\n",
       "      <th>subjectivity</th>\n",
       "    </tr>\n",
       "  </thead>\n",
       "  <tbody>\n",
       "    <tr>\n",
       "      <th>0</th>\n",
       "      <td>https://insights.blackcoffer.com/rise-of-telem...</td>\n",
       "      <td>Rise of telemedicine and its Impact on Livelih...</td>\n",
       "      <td>\\n“More gains on quality, affordability and ac...</td>\n",
       "      <td>“ More gains quality , affordability accessibi...</td>\n",
       "      <td>42</td>\n",
       "      <td>27</td>\n",
       "      <td>0.139706</td>\n",
       "      <td>0.385624</td>\n",
       "    </tr>\n",
       "  </tbody>\n",
       "</table>\n",
       "</div>"
      ],
      "text/plain": [
       "                                                 url  \\\n",
       "0  https://insights.blackcoffer.com/rise-of-telem...   \n",
       "\n",
       "                                               title  \\\n",
       "0  Rise of telemedicine and its Impact on Livelih...   \n",
       "\n",
       "                                             content  \\\n",
       "0  \\n“More gains on quality, affordability and ac...   \n",
       "\n",
       "                                      filter_content  Positive_Score  \\\n",
       "0  “ More gains quality , affordability accessibi...              42   \n",
       "\n",
       "   Negative_Score  polarity  subjectivity  \n",
       "0              27  0.139706      0.385624  "
      ]
     },
     "execution_count": 957,
     "metadata": {},
     "output_type": "execute_result"
    }
   ],
   "source": [
    "\n",
    "from textblob import TextBlob\n",
    "\n",
    "# Get The Subjectivity\n",
    "def sentiment_analysis(data):\n",
    "    sentiment = TextBlob(data[\"content\"]).sentiment\n",
    "    return pd.Series([sentiment.polarity,sentiment.subjectivity ])\n",
    "\n",
    "# Adding Subjectivity & Polarity\n",
    "data[[\"polarity\", \"subjectivity\"]] = data.apply(sentiment_analysis, axis=1)\n",
    "\n",
    "data"
   ]
  },
  {
   "cell_type": "code",
   "execution_count": 958,
   "id": "bab7c270",
   "metadata": {},
   "outputs": [
    {
     "name": "stdout",
     "output_type": "stream",
     "text": [
      "Word average = 110.68253968253968\n"
     ]
    }
   ],
   "source": [
    "AVG_SENTENCE_LENGTH = len(content.replace(' ',''))/len(re.split(r'[?!.]', content))\n",
    "print('Word average =', AVG_SENTENCE_LENGTH)"
   ]
  },
  {
   "cell_type": "code",
   "execution_count": 959,
   "id": "152d3307",
   "metadata": {},
   "outputs": [
    {
     "name": "stdout",
     "output_type": "stream",
     "text": [
      "Requirement already satisfied: textstat in c:\\users\\user\\anaconda3\\lib\\site-packages (0.7.3)\n",
      "Requirement already satisfied: pyphen in c:\\users\\user\\anaconda3\\lib\\site-packages (from textstat) (0.14.0)\n"
     ]
    }
   ],
   "source": [
    "!pip install textstat\n",
    "import textstat"
   ]
  },
  {
   "cell_type": "code",
   "execution_count": 960,
   "id": "465f084d",
   "metadata": {},
   "outputs": [
    {
     "name": "stdout",
     "output_type": "stream",
     "text": [
      "12.67\n"
     ]
    }
   ],
   "source": [
    "import textstat  # Make sure you've imported the textstat module\n",
    "\n",
    "FOG_INDEX=(textstat.gunning_fog(content))\n",
    "print(FOG_INDEX)"
   ]
  },
  {
   "cell_type": "code",
   "execution_count": 961,
   "id": "a59cc2e0",
   "metadata": {},
   "outputs": [
    {
     "name": "stdout",
     "output_type": "stream",
     "text": [
      "19.603174603174605\n"
     ]
    }
   ],
   "source": [
    "AVG_NUMBER_OF_WORDS_PER_SENTENCE = [len(l.split()) for l in re.split(r'[?!.]', content) if l.strip()]\n",
    "AVG_NUMBER_OF_WORDS_PER_SENTENCE=print(sum(AVG_NUMBER_OF_WORDS_PER_SENTENCE)/len(AVG_NUMBER_OF_WORDS_PER_SENTENCE))"
   ]
  },
  {
   "cell_type": "code",
   "execution_count": 962,
   "id": "e16f2af0",
   "metadata": {},
   "outputs": [
    {
     "name": "stdout",
     "output_type": "stream",
     "text": [
      "2375\n"
     ]
    }
   ],
   "source": [
    "def syllable_count(word):\n",
    "    count = 0\n",
    "    vowels = \"AEIOUYaeiouy\"\n",
    "    if word[0] in vowels:\n",
    "        count += 1\n",
    "    for index in range(1, len(word)): \n",
    "        if word[index] in vowels and word[index - 1] not in vowels:\n",
    "            count += 1\n",
    "            if word.endswith(\"es\"or \"ed\"):\n",
    "                count -= 1\n",
    "    if count == 0:\n",
    "        count += 1\n",
    "    return count\n",
    "\n",
    "\n",
    "\n",
    "COMPLEX_WORDS=syllable_count(content)\n",
    "print(COMPLEX_WORDS)"
   ]
  },
  {
   "cell_type": "code",
   "execution_count": 963,
   "id": "906cdb9d",
   "metadata": {},
   "outputs": [
    {
     "name": "stdout",
     "output_type": "stream",
     "text": [
      "8176\n"
     ]
    }
   ],
   "source": [
    "Word_Count=len(content)\n",
    "print(Word_Count)"
   ]
  },
  {
   "cell_type": "code",
   "execution_count": 964,
   "id": "932884af",
   "metadata": {},
   "outputs": [
    {
     "name": "stdout",
     "output_type": "stream",
     "text": [
      "29.04843444227006\n"
     ]
    }
   ],
   "source": [
    "pcw=(COMPLEX_WORDS/Word_Count)*100\n",
    "print(pcw)"
   ]
  },
  {
   "cell_type": "code",
   "execution_count": 965,
   "id": "d489b99a",
   "metadata": {},
   "outputs": [
    {
     "data": {
      "text/plain": [
       "20"
      ]
     },
     "execution_count": 965,
     "metadata": {},
     "output_type": "execute_result"
    }
   ],
   "source": [
    "import nltk\n",
    "\n",
    "def ProperNounExtractor(text):\n",
    "    count = 0\n",
    "    sentences = nltk.sent_tokenize(text)\n",
    "    for sentence in sentences:\n",
    "        words = nltk.word_tokenize(sentence)\n",
    "        tagged = nltk.pos_tag(words)\n",
    "        for (word, tag) in tagged:\n",
    "            if tag == 'PRP': # If the word is a proper noun\n",
    "                count = count + 1 \n",
    "        \n",
    "    return(count)         \n",
    "                \n",
    "\n",
    "\n",
    "# Calling the ProperNounExtractor function to extract all the proper nouns from the given text. \n",
    "Personal_Pronouns=ProperNounExtractor(content)\n",
    "Personal_Pronouns"
   ]
  },
  {
   "cell_type": "code",
   "execution_count": 966,
   "id": "4f5600c3",
   "metadata": {},
   "outputs": [
    {
     "name": "stdout",
     "output_type": "stream",
     "text": [
      "5.659902597402597\n"
     ]
    }
   ],
   "source": [
    "Average_Word_Length=len(content.replace(' ',''))/len(content.split())\n",
    "print(Average_Word_Length)"
   ]
  },
  {
   "cell_type": "code",
   "execution_count": 967,
   "id": "11fbed4b",
   "metadata": {},
   "outputs": [
    {
     "name": "stdout",
     "output_type": "stream",
     "text": [
      "The AVG number of syllables in the word is: \n",
      "2.175324675324675\n"
     ]
    }
   ],
   "source": [
    "word=content.replace(' ','')\n",
    "syllable_count=0\n",
    "for w in word:\n",
    "      if(w=='a' or w=='e' or w=='i' or w=='o' or w=='y' or w=='u' or w=='A' or w=='E' or w=='I' or w=='O' or w=='U' or w=='Y'):\n",
    "            syllable_count=syllable_count+1\n",
    "print(\"The AVG number of syllables in the word is: \")\n",
    "print(syllable_count/len(content.split()))"
   ]
  },
  {
   "cell_type": "code",
   "execution_count": null,
   "id": "a78b6e66",
   "metadata": {},
   "outputs": [],
   "source": []
  },
  {
   "cell_type": "code",
   "execution_count": null,
   "id": "2c0422cc",
   "metadata": {},
   "outputs": [],
   "source": []
  },
  {
   "cell_type": "code",
   "execution_count": null,
   "id": "d6f1c6d0",
   "metadata": {},
   "outputs": [],
   "source": []
  },
  {
   "cell_type": "code",
   "execution_count": null,
   "id": "fd9f3de4",
   "metadata": {},
   "outputs": [],
   "source": []
  },
  {
   "cell_type": "code",
   "execution_count": null,
   "id": "fec8c300",
   "metadata": {},
   "outputs": [],
   "source": []
  },
  {
   "cell_type": "code",
   "execution_count": null,
   "id": "3f36d376",
   "metadata": {},
   "outputs": [],
   "source": []
  },
  {
   "cell_type": "code",
   "execution_count": null,
   "id": "3937c370",
   "metadata": {},
   "outputs": [],
   "source": []
  },
  {
   "cell_type": "code",
   "execution_count": null,
   "id": "4b476014",
   "metadata": {},
   "outputs": [],
   "source": []
  }
 ],
 "metadata": {
  "kernelspec": {
   "display_name": "Python 3 (ipykernel)",
   "language": "python",
   "name": "python3"
  },
  "language_info": {
   "codemirror_mode": {
    "name": "ipython",
    "version": 3
   },
   "file_extension": ".py",
   "mimetype": "text/x-python",
   "name": "python",
   "nbconvert_exporter": "python",
   "pygments_lexer": "ipython3",
   "version": "3.10.9"
  }
 },
 "nbformat": 4,
 "nbformat_minor": 5
}
